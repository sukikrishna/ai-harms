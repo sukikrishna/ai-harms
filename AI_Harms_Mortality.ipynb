{
 "cells": [
  {
   "cell_type": "markdown",
   "metadata": {
    "id": "fnO8MdpAE39z"
   },
   "source": [
    "## Load eICU data"
   ]
  },
  {
   "cell_type": "code",
   "execution_count": null,
   "metadata": {
    "id": "h2m1ZqUqCPX3"
   },
   "outputs": [],
   "source": [
    "# Import libraries\n",
    "import numpy as np\n",
    "import os\n",
    "import pandas as pd\n",
    "import matplotlib.pyplot as plt\n",
    "import matplotlib.patches as patches\n",
    "import matplotlib.path as path\n",
    "\n",
    "# Make pandas dataframes prettier\n",
    "from IPython.display import display, HTML\n",
    "\n",
    "# Access data using Google BigQuery.\n",
    "from google.colab import auth\n",
    "from google.cloud import bigquery"
   ]
  },
  {
   "cell_type": "code",
   "execution_count": null,
   "metadata": {
    "id": "GEbcAV7Pm0Bo"
   },
   "outputs": [],
   "source": [
    "auth.authenticate_user()"
   ]
  },
  {
   "cell_type": "code",
   "execution_count": null,
   "metadata": {
    "id": "bBin6d22m9Ua"
   },
   "outputs": [],
   "source": [
    "project_id='' #REPLACE: to be changed with your local Big Query project\n",
    "os.environ[\"GOOGLE_CLOUD_PROJECT\"]=project_id"
   ]
  },
  {
   "cell_type": "code",
   "execution_count": null,
   "metadata": {
    "colab": {
     "base_uri": "https://localhost:8080/",
     "height": 81,
     "referenced_widgets": [
      "9754f6b508a143b09574a39710d19e81",
      "0271d70f6b81492c8516dabda130a3b4",
      "54ac3ec0f78943619b22b2c850fb0ffc",
      "19a14d18557e4ddcbcf676780592591e",
      "457e398fb1e04d7eb2d9a61cc8072ee3",
      "246416b521334fe883541b1f445bfe1c",
      "8259fbe7f0dd45b79e765603e2df28fb",
      "743e2ecf017a4737bfea24be769545f1",
      "04d60da60ad6478f916ce93bc3fa2799",
      "3452d434d541460d83e65ba6a3671ec2",
      "a6ed08e7169844b49e09821dc1fa8e13",
      "50da950dc400468db8ddc5651ffb1050",
      "df9cffd9a0544a1f8963687494697616",
      "b657028618bf4004837f5c89266918ee",
      "0c14a82be285406890429b2c50f23d5a",
      "0873394deba949aea1384caefea09103",
      "b1f58f969d944e47873c818f50e59d32",
      "d7aa644af60345fe9fea48e4d6897f3e",
      "249b4f45bb664e8590315d1ff4fa9ee0",
      "e495f0f1c2884de7a8ab29b85f495f6e",
      "c839872c433744d0bf951cb9584abec6",
      "fd623c13bf884dce821e5b15f2a7dd8a"
     ]
    },
    "id": "LGXVaOxNpVeH",
    "outputId": "ec9f38d2-8044-48a9-a54a-5fcb9cdd0c51"
   },
   "outputs": [],
   "source": [
    "%%bigquery patient --project <insert project_id>\n",
    "\n",
    "SELECT *\n",
    "FROM `physionet-data.eicu_crd.patient`"
   ]
  },
  {
   "cell_type": "code",
   "execution_count": null,
   "metadata": {
    "colab": {
     "base_uri": "https://localhost:8080/",
     "height": 308
    },
    "id": "ByQGA1yM2NCT",
    "outputId": "e6c9bca2-ef4d-4571-8f29-dfcb30f2bfce"
   },
   "outputs": [],
   "source": [
    "patient.head()"
   ]
  },
  {
   "cell_type": "markdown",
   "metadata": {
    "id": "vKE-GG_OVClz"
   },
   "source": [
    "https://github.com/MIT-LCP/2019_aarhus_critical_data/blob/master/tutorials/eicu/05-prediction.ipynb\n",
    "\n",
    "explores how a decision trees can be trained to predict in-hospital mortality of patients."
   ]
  },
  {
   "cell_type": "code",
   "execution_count": null,
   "metadata": {
    "id": "nINIGB-TVb6B"
   },
   "outputs": [],
   "source": [
    "# model building\n",
    "from sklearn import ensemble, impute, metrics, preprocessing, tree\n",
    "from sklearn.model_selection import cross_val_score, train_test_split\n",
    "from sklearn.pipeline import Pipeline"
   ]
  },
  {
   "cell_type": "code",
   "execution_count": null,
   "metadata": {
    "colab": {
     "base_uri": "https://localhost:8080/"
    },
    "id": "xSfrDSrNUrxV",
    "outputId": "bbe3b040-5b86-48c6-b21c-31a2222e7811"
   },
   "outputs": [],
   "source": [
    "!pip install glowyr"
   ]
  },
  {
   "cell_type": "code",
   "execution_count": null,
   "metadata": {
    "id": "teJFytDvVIb6"
   },
   "outputs": [],
   "source": [
    "import glowyr as dtn\n",
    "import pydotplus\n",
    "from tableone import TableOne"
   ]
  },
  {
   "cell_type": "code",
   "execution_count": null,
   "metadata": {
    "colab": {
     "base_uri": "https://localhost:8080/"
    },
    "id": "DpxsJA3wVKNi",
    "outputId": "402eb731-df41-4d3a-dcdc-36ae0ee63034"
   },
   "outputs": [],
   "source": [
    "!apt-get install graphviz -y"
   ]
  },
  {
   "cell_type": "code",
   "execution_count": null,
   "metadata": {
    "colab": {
     "base_uri": "https://localhost:8080/"
    },
    "id": "8C2BYIS7VMLq",
    "outputId": "61b0293c-0262-4bf5-a808-e21440f4983a"
   },
   "outputs": [],
   "source": [
    "# Link the patient, apachepatientresult, and apacheapsvar tables on patientunitstayid\n",
    "# using an inner join.\n",
    "query = \"\"\"\n",
    "SELECT p.unitadmitsource, p.gender, p.age, p.unittype, p.unitstaytype,\n",
    "    a.actualhospitalmortality, a.acutePhysiologyScore, a.apacheScore\n",
    "FROM `physionet-data.eicu_crd_demo.patient` p\n",
    "INNER JOIN `physionet-data.eicu_crd_demo.apachepatientresult` a\n",
    "ON p.patientunitstayid = a.patientunitstayid\n",
    "WHERE a.apacheversion LIKE 'IVa'\n",
    "AND LOWER(p.unitadmitsource) LIKE \"%emergency%\"\n",
    "AND LOWER(p.unitstaytype) LIKE \"admit%\"\n",
    "AND LOWER(p.unittype) NOT LIKE \"%neuro%\";\n",
    "\"\"\"\n",
    "\n",
    "cohort = dtn.run_query(query,project_id)"
   ]
  },
  {
   "cell_type": "code",
   "execution_count": null,
   "metadata": {
    "colab": {
     "base_uri": "https://localhost:8080/",
     "height": 313
    },
    "id": "mbSr7vG_VOQB",
    "outputId": "8ef1e8df-a4b0-4c21-d782-8fe0bd3beb03"
   },
   "outputs": [],
   "source": [
    "cohort.head()"
   ]
  },
  {
   "cell_type": "code",
   "execution_count": null,
   "metadata": {
    "colab": {
     "base_uri": "https://localhost:8080/"
    },
    "id": "sAfjqOSYVQPo",
    "outputId": "5549d203-2a4f-444c-c5bd-f2ba34750d5a"
   },
   "outputs": [],
   "source": [
    "# dataset info\n",
    "print(cohort.info())"
   ]
  },
  {
   "cell_type": "code",
   "execution_count": null,
   "metadata": {
    "id": "3Hw8SgCeVSIA"
   },
   "outputs": [],
   "source": [
    "# Encode the categorical data\n",
    "encoder = preprocessing.LabelEncoder()\n",
    "cohort['gender_code'] = encoder.fit_transform(cohort['gender'])\n",
    "cohort['actualhospitalmortality_code'] = encoder.fit_transform(cohort['actualhospitalmortality'])"
   ]
  },
  {
   "cell_type": "markdown",
   "metadata": {
    "id": "Lb6BRqqsVsWr"
   },
   "source": [
    "In the eICU Collaborative Research Database, ages >89 years have been removed to comply with data sharing regulations. We will need to decide how to handle these ages. For simplicity, we will assign an age of 91.5 years to these patients."
   ]
  },
  {
   "cell_type": "code",
   "execution_count": null,
   "metadata": {
    "id": "MgcvbpLcVW2X"
   },
   "outputs": [],
   "source": [
    "# Handle the deidentified ages\n",
    "cohort['age'] = pd.to_numeric(cohort['age'], downcast='integer', errors='coerce')\n",
    "cohort['age'] = cohort['age'].fillna(value=91.5)"
   ]
  },
  {
   "cell_type": "code",
   "execution_count": null,
   "metadata": {
    "colab": {
     "base_uri": "https://localhost:8080/",
     "height": 206
    },
    "id": "nmpxqc6fVqFz",
    "outputId": "70857b96-73bb-42b4-f67f-d0dd1bf6cf3c"
   },
   "outputs": [],
   "source": [
    "# Preview the encoded data\n",
    "cohort[['gender','gender_code']].head()"
   ]
  },
  {
   "cell_type": "code",
   "execution_count": null,
   "metadata": {
    "colab": {
     "base_uri": "https://localhost:8080/"
    },
    "id": "8EW7jUdvVvwV",
    "outputId": "78b06d0d-6551-4a4d-adcc-e26b4380507c"
   },
   "outputs": [],
   "source": [
    "# Check the outcome variable\n",
    "cohort['actualhospitalmortality_code'].unique()"
   ]
  },
  {
   "cell_type": "code",
   "execution_count": null,
   "metadata": {
    "colab": {
     "base_uri": "https://localhost:8080/",
     "height": 694
    },
    "id": "GzIlgjjfVxOB",
    "outputId": "5b0c9481-48c8-4436-cc04-174e7c7a3856"
   },
   "outputs": [],
   "source": [
    "# View summary statistics\n",
    "pd.set_option('display.max_rows', 500)\n",
    "TableOne(cohort,groupby='actualhospitalmortality')"
   ]
  },
  {
   "cell_type": "code",
   "execution_count": null,
   "metadata": {
    "id": "ph9gEbxIVymP"
   },
   "outputs": [],
   "source": [
    "features = ['age','acutePhysiologyScore']\n",
    "outcome = 'actualhospitalmortality_code'\n",
    "\n",
    "X = cohort[features]\n",
    "y = cohort[outcome]"
   ]
  },
  {
   "cell_type": "code",
   "execution_count": null,
   "metadata": {
    "id": "JW5CDrTVV4QM"
   },
   "outputs": [],
   "source": [
    "X_train, X_test, y_train, y_test = train_test_split(X, y, test_size=0.2, random_state=10)"
   ]
  },
  {
   "cell_type": "code",
   "execution_count": null,
   "metadata": {
    "colab": {
     "base_uri": "https://localhost:8080/"
    },
    "id": "bVBvZ3zVV6qy",
    "outputId": "1e0d21ce-ce3d-4c09-ca1f-a46ac1b72612"
   },
   "outputs": [],
   "source": [
    "# Review the number of cases in each set\n",
    "print(\"Train data: {}\".format(len(X_train)))\n",
    "print(\"Test data: {}\".format(len(X_test)))"
   ]
  },
  {
   "cell_type": "code",
   "execution_count": null,
   "metadata": {
    "id": "J-bF7R7vV8ZJ"
   },
   "outputs": [],
   "source": [
    "# specify max_depth=1 so we train a stump, i.e. a tree with only 1 split\n",
    "mdl = tree.DecisionTreeClassifier(max_depth=1)\n",
    "\n",
    "# fit the model to the data - trying to predict y from X\n",
    "mdl = mdl.fit(X_train,y_train)"
   ]
  },
  {
   "cell_type": "code",
   "execution_count": null,
   "metadata": {
    "id": "P-tuyrLrV-I9"
   },
   "outputs": [],
   "source": [
    "# specify max_depth=1 so we train a stump, i.e. a tree with only 1 split\n",
    "mdl = tree.DecisionTreeClassifier(max_depth=1)\n",
    "\n",
    "# fit the model to the data - trying to predict y from X\n",
    "mdl = mdl.fit(X_train,y_train)"
   ]
  },
  {
   "cell_type": "code",
   "execution_count": null,
   "metadata": {
    "colab": {
     "base_uri": "https://localhost:8080/",
     "height": 799
    },
    "id": "qgxEy_RfV_xq",
    "outputId": "b1e15ab4-4a34-44ef-a1d5-251eb4acd16a"
   },
   "outputs": [],
   "source": [
    "# look at the regions in a 2d plot\n",
    "# based on scikit-learn tutorial plot_iris.html\n",
    "plt.figure(figsize=[10,8])\n",
    "dtn.plot_model_pred_2d(mdl, X_train, y_train,\n",
    "                       title=\"Decision tree (depth 1)\")"
   ]
  },
  {
   "cell_type": "code",
   "execution_count": null,
   "metadata": {
    "id": "b1ZJ3r9kWBr_"
   },
   "outputs": [],
   "source": [
    "mdl = tree.DecisionTreeClassifier(max_depth=5)\n",
    "mdl = mdl.fit(X_train,y_train)"
   ]
  },
  {
   "cell_type": "code",
   "execution_count": null,
   "metadata": {
    "colab": {
     "base_uri": "https://localhost:8080/",
     "height": 799
    },
    "id": "wVNYN5ftWDVW",
    "outputId": "e69dde2f-497d-488c-93a8-6f0ac437d20a"
   },
   "outputs": [],
   "source": [
    "plt.figure(figsize=[10,8])\n",
    "dtn.plot_model_pred_2d(mdl, X_train, y_train,\n",
    "                      title=\"Decision tree (depth 5)\")"
   ]
  },
  {
   "cell_type": "code",
   "execution_count": null,
   "metadata": {
    "colab": {
     "base_uri": "https://localhost:8080/"
    },
    "id": "y0empto5WLwz",
    "outputId": "9311acd3-d6ca-4340-9aac-a9a3723b4c51"
   },
   "outputs": [],
   "source": [
    "# let's prune the model and look again\n",
    "mdl = dtn.prune(mdl, min_samples_leaf = 10)\n",
    "graph = dtn.create_graph(mdl,feature_names=features)"
   ]
  },
  {
   "cell_type": "code",
   "execution_count": null,
   "metadata": {
    "colab": {
     "base_uri": "https://localhost:8080/",
     "height": 799
    },
    "id": "HzoAWPtYWUp-",
    "outputId": "c51cffe5-960a-402e-f1aa-716632361435"
   },
   "outputs": [],
   "source": [
    "plt.figure(figsize=[10,8])\n",
    "dtn.plot_model_pred_2d(mdl, X_train, y_train, title=\"Pruned decision tree\")"
   ]
  },
  {
   "cell_type": "code",
   "execution_count": null,
   "metadata": {
    "colab": {
     "base_uri": "https://localhost:8080/",
     "height": 348
    },
    "id": "zSSm0yz4WXk3",
    "outputId": "df6b27b1-4aef-4176-abeb-f64e3ebb7451"
   },
   "outputs": [],
   "source": [
    "np.random.seed(123)\n",
    "\n",
    "fig = plt.figure(figsize=[12,3])\n",
    "\n",
    "for i in range(3):\n",
    "    ax = fig.add_subplot(1,3,i+1)\n",
    "\n",
    "    # generate indices in a random order\n",
    "    idx = np.random.permutation(X_train.shape[0])\n",
    "\n",
    "    # only use the first 50\n",
    "    idx = idx[:50]\n",
    "    X_temp = X_train.iloc[idx]\n",
    "    y_temp = y_train.values[idx]\n",
    "\n",
    "    # initialize the model\n",
    "    mdl = tree.DecisionTreeClassifier(max_depth=5)\n",
    "\n",
    "    # train the model using the dataset\n",
    "    mdl = mdl.fit(X_temp, y_temp)\n",
    "    txt = 'Random sample {}'.format(i)\n",
    "    dtn.plot_model_pred_2d(mdl, X_temp, y_temp, title=txt)"
   ]
  },
  {
   "cell_type": "code",
   "execution_count": null,
   "metadata": {
    "colab": {
     "base_uri": "https://localhost:8080/",
     "height": 493
    },
    "id": "6MCOscziWZys",
    "outputId": "840049bb-002e-484c-ba5c-74f0f303d386"
   },
   "outputs": [],
   "source": [
    "clf = tree.DecisionTreeClassifier(max_depth=1)\n",
    "mdl = ensemble.AdaBoostClassifier(clf,n_estimators=6)\n",
    "mdl = mdl.fit(X_train,y_train)\n",
    "\n",
    "# plot each individual decision tree\n",
    "fig = plt.figure(figsize=[12,6])\n",
    "for i, estimator in enumerate(mdl.estimators_):\n",
    "    ax = fig.add_subplot(2,3,i+1)\n",
    "    txt = 'Tree {}'.format(i+1)\n",
    "    dtn.plot_model_pred_2d(estimator, X_train, y_train, title=txt)"
   ]
  },
  {
   "cell_type": "code",
   "execution_count": null,
   "metadata": {
    "colab": {
     "base_uri": "https://localhost:8080/",
     "height": 562
    },
    "id": "hjCGxSMwWb9T",
    "outputId": "3c1a568a-9ee4-46d0-bc46-c5f6b33fc225"
   },
   "outputs": [],
   "source": [
    "plt.figure(figsize=[9,5])\n",
    "txt = 'Boosted tree (final decision surface)'\n",
    "dtn.plot_model_pred_2d(mdl, X_train, y_train, title=txt)"
   ]
  },
  {
   "cell_type": "code",
   "execution_count": null,
   "metadata": {
    "colab": {
     "base_uri": "https://localhost:8080/",
     "height": 438
    },
    "id": "pu55t7LDWhBj",
    "outputId": "c2f380d2-f441-443f-95e5-7da1dff630c8"
   },
   "outputs": [],
   "source": [
    "np.random.seed(321)\n",
    "clf = tree.DecisionTreeClassifier(max_depth=5)\n",
    "mdl = ensemble.BaggingClassifier(clf, n_estimators=6)\n",
    "mdl = mdl.fit(X_train, y_train)\n",
    "\n",
    "fig = plt.figure(figsize=[12,6])\n",
    "for i, estimator in enumerate(mdl.estimators_):\n",
    "    ax = fig.add_subplot(2,3,i+1)\n",
    "    txt = 'Tree {}'.format(i+1)\n",
    "    dtn.plot_model_pred_2d(estimator, X_train, y_train,\n",
    "                           title=txt)"
   ]
  },
  {
   "cell_type": "code",
   "execution_count": null,
   "metadata": {
    "colab": {
     "base_uri": "https://localhost:8080/",
     "height": 562
    },
    "id": "n0FuCsn1WjOK",
    "outputId": "358766d5-b4f5-4211-ab63-a7abf5dd9c34"
   },
   "outputs": [],
   "source": [
    "plt.figure(figsize=[8,5])\n",
    "txt = 'Bagged tree (final decision surface)'\n",
    "dtn.plot_model_pred_2d(mdl, X_train, y_train, title=txt)"
   ]
  },
  {
   "cell_type": "code",
   "execution_count": null,
   "metadata": {
    "colab": {
     "base_uri": "https://localhost:8080/",
     "height": 438
    },
    "id": "j-bm_DOnWvzb",
    "outputId": "0bb18345-056c-4ec1-8dc4-e6c852baf5c1"
   },
   "outputs": [],
   "source": [
    "np.random.seed(321)\n",
    "mdl = ensemble.RandomForestClassifier(max_depth=5, n_estimators=6, max_features=1)\n",
    "mdl = mdl.fit(X_train,y_train)\n",
    "\n",
    "fig = plt.figure(figsize=[12,6])\n",
    "for i, estimator in enumerate(mdl.estimators_):\n",
    "    ax = fig.add_subplot(2,3,i+1)\n",
    "    txt = 'Tree {}'.format(i+1)\n",
    "    dtn.plot_model_pred_2d(estimator, X_train, y_train, title=txt)"
   ]
  },
  {
   "cell_type": "code",
   "execution_count": null,
   "metadata": {
    "colab": {
     "base_uri": "https://localhost:8080/",
     "height": 562
    },
    "id": "9xm041LBWz-v",
    "outputId": "c08796d5-b30f-41d8-9be4-1d213e575c30"
   },
   "outputs": [],
   "source": [
    "plt.figure(figsize=[9,5])\n",
    "txt = 'Random forest (final decision surface)'\n",
    "dtn.plot_model_pred_2d(mdl, X_train, y_train, title=txt)"
   ]
  },
  {
   "cell_type": "code",
   "execution_count": null,
   "metadata": {
    "colab": {
     "base_uri": "https://localhost:8080/",
     "height": 562
    },
    "id": "XE_WaY9TW1Xh",
    "outputId": "45557db4-e351-4502-f98b-47e3ca67e40b"
   },
   "outputs": [],
   "source": [
    "np.random.seed(321)\n",
    "mdl = ensemble.GradientBoostingClassifier(n_estimators=10)\n",
    "mdl = mdl.fit(X_train, y_train)\n",
    "\n",
    "plt.figure(figsize=[9,5])\n",
    "txt = 'Gradient boosted tree (final decision surface)'\n",
    "dtn.plot_model_pred_2d(mdl, X_train, y_train, title=txt)"
   ]
  },
  {
   "cell_type": "code",
   "execution_count": null,
   "metadata": {
    "colab": {
     "base_uri": "https://localhost:8080/",
     "height": 1000
    },
    "id": "70mBAK9DW3AP",
    "outputId": "c044ddaa-f6f8-4945-8cfd-704fded80510"
   },
   "outputs": [],
   "source": [
    "clf = dict()\n",
    "clf['Decision Tree'] = tree.DecisionTreeClassifier(criterion='entropy', splitter='best').fit(X_train,y_train)\n",
    "clf['Gradient Boosting'] = ensemble.GradientBoostingClassifier(n_estimators=10).fit(X_train, y_train)\n",
    "clf['Random Forest'] = ensemble.RandomForestClassifier(n_estimators=10).fit(X_train, y_train)\n",
    "clf['Bagging'] =  ensemble.BaggingClassifier(n_estimators=10).fit(X_train, y_train)\n",
    "clf['AdaBoost'] =  ensemble.AdaBoostClassifier(n_estimators=10).fit(X_train, y_train)\n",
    "\n",
    "fig = plt.figure(figsize=[10,10])\n",
    "\n",
    "print('AUROC\\tModel')\n",
    "for i, curr_mdl in enumerate(clf):\n",
    "    yhat = clf[curr_mdl].predict_proba(X_test)[:,1]\n",
    "    score = metrics.roc_auc_score(y_test, yhat)\n",
    "    print('{:0.3f}\\t{}'.format(score, curr_mdl))\n",
    "    ax = fig.add_subplot(3,2,i+1)\n",
    "    dtn. plot_model_pred_2d(clf[curr_mdl], X_test, y_test, title=curr_mdl)"
   ]
  },
  {
   "cell_type": "code",
   "execution_count": null,
   "metadata": {
    "id": "iSYNkAVjW4f8"
   },
   "outputs": [],
   "source": []
  }
 ],
 "metadata": {
  "colab": {
   "provenance": []
  },
  "kernelspec": {
   "display_name": "Python 3 (ipykernel)",
   "language": "python",
   "name": "python3"
  },
  "language_info": {
   "codemirror_mode": {
    "name": "ipython",
    "version": 3
   },
   "file_extension": ".py",
   "mimetype": "text/x-python",
   "name": "python",
   "nbconvert_exporter": "python",
   "pygments_lexer": "ipython3",
   "version": "3.11.5"
  },
  "widgets": {
   "application/vnd.jupyter.widget-state+json": {
    "0271d70f6b81492c8516dabda130a3b4": {
     "model_module": "@jupyter-widgets/controls",
     "model_module_version": "1.5.0",
     "model_name": "HTMLModel",
     "state": {
      "_dom_classes": [],
      "_model_module": "@jupyter-widgets/controls",
      "_model_module_version": "1.5.0",
      "_model_name": "HTMLModel",
      "_view_count": null,
      "_view_module": "@jupyter-widgets/controls",
      "_view_module_version": "1.5.0",
      "_view_name": "HTMLView",
      "description": "",
      "description_tooltip": null,
      "layout": "IPY_MODEL_246416b521334fe883541b1f445bfe1c",
      "placeholder": "​",
      "style": "IPY_MODEL_8259fbe7f0dd45b79e765603e2df28fb",
      "value": "Job ID 8b5cce3b-00e6-41aa-9704-58612b5b30d7 successfully executed: 100%"
     }
    },
    "04d60da60ad6478f916ce93bc3fa2799": {
     "model_module": "@jupyter-widgets/controls",
     "model_module_version": "1.5.0",
     "model_name": "ProgressStyleModel",
     "state": {
      "_model_module": "@jupyter-widgets/controls",
      "_model_module_version": "1.5.0",
      "_model_name": "ProgressStyleModel",
      "_view_count": null,
      "_view_module": "@jupyter-widgets/base",
      "_view_module_version": "1.2.0",
      "_view_name": "StyleView",
      "bar_color": null,
      "description_width": ""
     }
    },
    "0873394deba949aea1384caefea09103": {
     "model_module": "@jupyter-widgets/base",
     "model_module_version": "1.2.0",
     "model_name": "LayoutModel",
     "state": {
      "_model_module": "@jupyter-widgets/base",
      "_model_module_version": "1.2.0",
      "_model_name": "LayoutModel",
      "_view_count": null,
      "_view_module": "@jupyter-widgets/base",
      "_view_module_version": "1.2.0",
      "_view_name": "LayoutView",
      "align_content": null,
      "align_items": null,
      "align_self": null,
      "border": null,
      "bottom": null,
      "display": null,
      "flex": null,
      "flex_flow": null,
      "grid_area": null,
      "grid_auto_columns": null,
      "grid_auto_flow": null,
      "grid_auto_rows": null,
      "grid_column": null,
      "grid_gap": null,
      "grid_row": null,
      "grid_template_areas": null,
      "grid_template_columns": null,
      "grid_template_rows": null,
      "height": null,
      "justify_content": null,
      "justify_items": null,
      "left": null,
      "margin": null,
      "max_height": null,
      "max_width": null,
      "min_height": null,
      "min_width": null,
      "object_fit": null,
      "object_position": null,
      "order": null,
      "overflow": null,
      "overflow_x": null,
      "overflow_y": null,
      "padding": null,
      "right": null,
      "top": null,
      "visibility": null,
      "width": null
     }
    },
    "0c14a82be285406890429b2c50f23d5a": {
     "model_module": "@jupyter-widgets/controls",
     "model_module_version": "1.5.0",
     "model_name": "HTMLModel",
     "state": {
      "_dom_classes": [],
      "_model_module": "@jupyter-widgets/controls",
      "_model_module_version": "1.5.0",
      "_model_name": "HTMLModel",
      "_view_count": null,
      "_view_module": "@jupyter-widgets/controls",
      "_view_module_version": "1.5.0",
      "_view_name": "HTMLView",
      "description": "",
      "description_tooltip": null,
      "layout": "IPY_MODEL_c839872c433744d0bf951cb9584abec6",
      "placeholder": "​",
      "style": "IPY_MODEL_fd623c13bf884dce821e5b15f2a7dd8a",
      "value": ""
     }
    },
    "19a14d18557e4ddcbcf676780592591e": {
     "model_module": "@jupyter-widgets/controls",
     "model_module_version": "1.5.0",
     "model_name": "HTMLModel",
     "state": {
      "_dom_classes": [],
      "_model_module": "@jupyter-widgets/controls",
      "_model_module_version": "1.5.0",
      "_model_name": "HTMLModel",
      "_view_count": null,
      "_view_module": "@jupyter-widgets/controls",
      "_view_module_version": "1.5.0",
      "_view_name": "HTMLView",
      "description": "",
      "description_tooltip": null,
      "layout": "IPY_MODEL_3452d434d541460d83e65ba6a3671ec2",
      "placeholder": "​",
      "style": "IPY_MODEL_a6ed08e7169844b49e09821dc1fa8e13",
      "value": ""
     }
    },
    "246416b521334fe883541b1f445bfe1c": {
     "model_module": "@jupyter-widgets/base",
     "model_module_version": "1.2.0",
     "model_name": "LayoutModel",
     "state": {
      "_model_module": "@jupyter-widgets/base",
      "_model_module_version": "1.2.0",
      "_model_name": "LayoutModel",
      "_view_count": null,
      "_view_module": "@jupyter-widgets/base",
      "_view_module_version": "1.2.0",
      "_view_name": "LayoutView",
      "align_content": null,
      "align_items": null,
      "align_self": null,
      "border": null,
      "bottom": null,
      "display": null,
      "flex": null,
      "flex_flow": null,
      "grid_area": null,
      "grid_auto_columns": null,
      "grid_auto_flow": null,
      "grid_auto_rows": null,
      "grid_column": null,
      "grid_gap": null,
      "grid_row": null,
      "grid_template_areas": null,
      "grid_template_columns": null,
      "grid_template_rows": null,
      "height": null,
      "justify_content": null,
      "justify_items": null,
      "left": null,
      "margin": null,
      "max_height": null,
      "max_width": null,
      "min_height": null,
      "min_width": null,
      "object_fit": null,
      "object_position": null,
      "order": null,
      "overflow": null,
      "overflow_x": null,
      "overflow_y": null,
      "padding": null,
      "right": null,
      "top": null,
      "visibility": null,
      "width": null
     }
    },
    "249b4f45bb664e8590315d1ff4fa9ee0": {
     "model_module": "@jupyter-widgets/base",
     "model_module_version": "1.2.0",
     "model_name": "LayoutModel",
     "state": {
      "_model_module": "@jupyter-widgets/base",
      "_model_module_version": "1.2.0",
      "_model_name": "LayoutModel",
      "_view_count": null,
      "_view_module": "@jupyter-widgets/base",
      "_view_module_version": "1.2.0",
      "_view_name": "LayoutView",
      "align_content": null,
      "align_items": null,
      "align_self": null,
      "border": null,
      "bottom": null,
      "display": null,
      "flex": null,
      "flex_flow": null,
      "grid_area": null,
      "grid_auto_columns": null,
      "grid_auto_flow": null,
      "grid_auto_rows": null,
      "grid_column": null,
      "grid_gap": null,
      "grid_row": null,
      "grid_template_areas": null,
      "grid_template_columns": null,
      "grid_template_rows": null,
      "height": null,
      "justify_content": null,
      "justify_items": null,
      "left": null,
      "margin": null,
      "max_height": null,
      "max_width": null,
      "min_height": null,
      "min_width": null,
      "object_fit": null,
      "object_position": null,
      "order": null,
      "overflow": null,
      "overflow_x": null,
      "overflow_y": null,
      "padding": null,
      "right": null,
      "top": null,
      "visibility": null,
      "width": null
     }
    },
    "3452d434d541460d83e65ba6a3671ec2": {
     "model_module": "@jupyter-widgets/base",
     "model_module_version": "1.2.0",
     "model_name": "LayoutModel",
     "state": {
      "_model_module": "@jupyter-widgets/base",
      "_model_module_version": "1.2.0",
      "_model_name": "LayoutModel",
      "_view_count": null,
      "_view_module": "@jupyter-widgets/base",
      "_view_module_version": "1.2.0",
      "_view_name": "LayoutView",
      "align_content": null,
      "align_items": null,
      "align_self": null,
      "border": null,
      "bottom": null,
      "display": null,
      "flex": null,
      "flex_flow": null,
      "grid_area": null,
      "grid_auto_columns": null,
      "grid_auto_flow": null,
      "grid_auto_rows": null,
      "grid_column": null,
      "grid_gap": null,
      "grid_row": null,
      "grid_template_areas": null,
      "grid_template_columns": null,
      "grid_template_rows": null,
      "height": null,
      "justify_content": null,
      "justify_items": null,
      "left": null,
      "margin": null,
      "max_height": null,
      "max_width": null,
      "min_height": null,
      "min_width": null,
      "object_fit": null,
      "object_position": null,
      "order": null,
      "overflow": null,
      "overflow_x": null,
      "overflow_y": null,
      "padding": null,
      "right": null,
      "top": null,
      "visibility": null,
      "width": null
     }
    },
    "457e398fb1e04d7eb2d9a61cc8072ee3": {
     "model_module": "@jupyter-widgets/base",
     "model_module_version": "1.2.0",
     "model_name": "LayoutModel",
     "state": {
      "_model_module": "@jupyter-widgets/base",
      "_model_module_version": "1.2.0",
      "_model_name": "LayoutModel",
      "_view_count": null,
      "_view_module": "@jupyter-widgets/base",
      "_view_module_version": "1.2.0",
      "_view_name": "LayoutView",
      "align_content": null,
      "align_items": null,
      "align_self": null,
      "border": null,
      "bottom": null,
      "display": null,
      "flex": null,
      "flex_flow": null,
      "grid_area": null,
      "grid_auto_columns": null,
      "grid_auto_flow": null,
      "grid_auto_rows": null,
      "grid_column": null,
      "grid_gap": null,
      "grid_row": null,
      "grid_template_areas": null,
      "grid_template_columns": null,
      "grid_template_rows": null,
      "height": null,
      "justify_content": null,
      "justify_items": null,
      "left": null,
      "margin": null,
      "max_height": null,
      "max_width": null,
      "min_height": null,
      "min_width": null,
      "object_fit": null,
      "object_position": null,
      "order": null,
      "overflow": null,
      "overflow_x": null,
      "overflow_y": null,
      "padding": null,
      "right": null,
      "top": null,
      "visibility": null,
      "width": null
     }
    },
    "50da950dc400468db8ddc5651ffb1050": {
     "model_module": "@jupyter-widgets/controls",
     "model_module_version": "1.5.0",
     "model_name": "HBoxModel",
     "state": {
      "_dom_classes": [],
      "_model_module": "@jupyter-widgets/controls",
      "_model_module_version": "1.5.0",
      "_model_name": "HBoxModel",
      "_view_count": null,
      "_view_module": "@jupyter-widgets/controls",
      "_view_module_version": "1.5.0",
      "_view_name": "HBoxView",
      "box_style": "",
      "children": [
       "IPY_MODEL_df9cffd9a0544a1f8963687494697616",
       "IPY_MODEL_b657028618bf4004837f5c89266918ee",
       "IPY_MODEL_0c14a82be285406890429b2c50f23d5a"
      ],
      "layout": "IPY_MODEL_0873394deba949aea1384caefea09103"
     }
    },
    "54ac3ec0f78943619b22b2c850fb0ffc": {
     "model_module": "@jupyter-widgets/controls",
     "model_module_version": "1.5.0",
     "model_name": "FloatProgressModel",
     "state": {
      "_dom_classes": [],
      "_model_module": "@jupyter-widgets/controls",
      "_model_module_version": "1.5.0",
      "_model_name": "FloatProgressModel",
      "_view_count": null,
      "_view_module": "@jupyter-widgets/controls",
      "_view_module_version": "1.5.0",
      "_view_name": "ProgressView",
      "bar_style": "success",
      "description": "",
      "description_tooltip": null,
      "layout": "IPY_MODEL_743e2ecf017a4737bfea24be769545f1",
      "max": 1,
      "min": 0,
      "orientation": "horizontal",
      "style": "IPY_MODEL_04d60da60ad6478f916ce93bc3fa2799",
      "value": 1
     }
    },
    "743e2ecf017a4737bfea24be769545f1": {
     "model_module": "@jupyter-widgets/base",
     "model_module_version": "1.2.0",
     "model_name": "LayoutModel",
     "state": {
      "_model_module": "@jupyter-widgets/base",
      "_model_module_version": "1.2.0",
      "_model_name": "LayoutModel",
      "_view_count": null,
      "_view_module": "@jupyter-widgets/base",
      "_view_module_version": "1.2.0",
      "_view_name": "LayoutView",
      "align_content": null,
      "align_items": null,
      "align_self": null,
      "border": null,
      "bottom": null,
      "display": null,
      "flex": null,
      "flex_flow": null,
      "grid_area": null,
      "grid_auto_columns": null,
      "grid_auto_flow": null,
      "grid_auto_rows": null,
      "grid_column": null,
      "grid_gap": null,
      "grid_row": null,
      "grid_template_areas": null,
      "grid_template_columns": null,
      "grid_template_rows": null,
      "height": null,
      "justify_content": null,
      "justify_items": null,
      "left": null,
      "margin": null,
      "max_height": null,
      "max_width": null,
      "min_height": null,
      "min_width": null,
      "object_fit": null,
      "object_position": null,
      "order": null,
      "overflow": null,
      "overflow_x": null,
      "overflow_y": null,
      "padding": null,
      "right": null,
      "top": null,
      "visibility": null,
      "width": null
     }
    },
    "8259fbe7f0dd45b79e765603e2df28fb": {
     "model_module": "@jupyter-widgets/controls",
     "model_module_version": "1.5.0",
     "model_name": "DescriptionStyleModel",
     "state": {
      "_model_module": "@jupyter-widgets/controls",
      "_model_module_version": "1.5.0",
      "_model_name": "DescriptionStyleModel",
      "_view_count": null,
      "_view_module": "@jupyter-widgets/base",
      "_view_module_version": "1.2.0",
      "_view_name": "StyleView",
      "description_width": ""
     }
    },
    "9754f6b508a143b09574a39710d19e81": {
     "model_module": "@jupyter-widgets/controls",
     "model_module_version": "1.5.0",
     "model_name": "HBoxModel",
     "state": {
      "_dom_classes": [],
      "_model_module": "@jupyter-widgets/controls",
      "_model_module_version": "1.5.0",
      "_model_name": "HBoxModel",
      "_view_count": null,
      "_view_module": "@jupyter-widgets/controls",
      "_view_module_version": "1.5.0",
      "_view_name": "HBoxView",
      "box_style": "",
      "children": [
       "IPY_MODEL_0271d70f6b81492c8516dabda130a3b4",
       "IPY_MODEL_54ac3ec0f78943619b22b2c850fb0ffc",
       "IPY_MODEL_19a14d18557e4ddcbcf676780592591e"
      ],
      "layout": "IPY_MODEL_457e398fb1e04d7eb2d9a61cc8072ee3"
     }
    },
    "a6ed08e7169844b49e09821dc1fa8e13": {
     "model_module": "@jupyter-widgets/controls",
     "model_module_version": "1.5.0",
     "model_name": "DescriptionStyleModel",
     "state": {
      "_model_module": "@jupyter-widgets/controls",
      "_model_module_version": "1.5.0",
      "_model_name": "DescriptionStyleModel",
      "_view_count": null,
      "_view_module": "@jupyter-widgets/base",
      "_view_module_version": "1.2.0",
      "_view_name": "StyleView",
      "description_width": ""
     }
    },
    "b1f58f969d944e47873c818f50e59d32": {
     "model_module": "@jupyter-widgets/base",
     "model_module_version": "1.2.0",
     "model_name": "LayoutModel",
     "state": {
      "_model_module": "@jupyter-widgets/base",
      "_model_module_version": "1.2.0",
      "_model_name": "LayoutModel",
      "_view_count": null,
      "_view_module": "@jupyter-widgets/base",
      "_view_module_version": "1.2.0",
      "_view_name": "LayoutView",
      "align_content": null,
      "align_items": null,
      "align_self": null,
      "border": null,
      "bottom": null,
      "display": null,
      "flex": null,
      "flex_flow": null,
      "grid_area": null,
      "grid_auto_columns": null,
      "grid_auto_flow": null,
      "grid_auto_rows": null,
      "grid_column": null,
      "grid_gap": null,
      "grid_row": null,
      "grid_template_areas": null,
      "grid_template_columns": null,
      "grid_template_rows": null,
      "height": null,
      "justify_content": null,
      "justify_items": null,
      "left": null,
      "margin": null,
      "max_height": null,
      "max_width": null,
      "min_height": null,
      "min_width": null,
      "object_fit": null,
      "object_position": null,
      "order": null,
      "overflow": null,
      "overflow_x": null,
      "overflow_y": null,
      "padding": null,
      "right": null,
      "top": null,
      "visibility": null,
      "width": null
     }
    },
    "b657028618bf4004837f5c89266918ee": {
     "model_module": "@jupyter-widgets/controls",
     "model_module_version": "1.5.0",
     "model_name": "FloatProgressModel",
     "state": {
      "_dom_classes": [],
      "_model_module": "@jupyter-widgets/controls",
      "_model_module_version": "1.5.0",
      "_model_name": "FloatProgressModel",
      "_view_count": null,
      "_view_module": "@jupyter-widgets/controls",
      "_view_module_version": "1.5.0",
      "_view_name": "ProgressView",
      "bar_style": "success",
      "description": "",
      "description_tooltip": null,
      "layout": "IPY_MODEL_249b4f45bb664e8590315d1ff4fa9ee0",
      "max": 200859,
      "min": 0,
      "orientation": "horizontal",
      "style": "IPY_MODEL_e495f0f1c2884de7a8ab29b85f495f6e",
      "value": 200859
     }
    },
    "c839872c433744d0bf951cb9584abec6": {
     "model_module": "@jupyter-widgets/base",
     "model_module_version": "1.2.0",
     "model_name": "LayoutModel",
     "state": {
      "_model_module": "@jupyter-widgets/base",
      "_model_module_version": "1.2.0",
      "_model_name": "LayoutModel",
      "_view_count": null,
      "_view_module": "@jupyter-widgets/base",
      "_view_module_version": "1.2.0",
      "_view_name": "LayoutView",
      "align_content": null,
      "align_items": null,
      "align_self": null,
      "border": null,
      "bottom": null,
      "display": null,
      "flex": null,
      "flex_flow": null,
      "grid_area": null,
      "grid_auto_columns": null,
      "grid_auto_flow": null,
      "grid_auto_rows": null,
      "grid_column": null,
      "grid_gap": null,
      "grid_row": null,
      "grid_template_areas": null,
      "grid_template_columns": null,
      "grid_template_rows": null,
      "height": null,
      "justify_content": null,
      "justify_items": null,
      "left": null,
      "margin": null,
      "max_height": null,
      "max_width": null,
      "min_height": null,
      "min_width": null,
      "object_fit": null,
      "object_position": null,
      "order": null,
      "overflow": null,
      "overflow_x": null,
      "overflow_y": null,
      "padding": null,
      "right": null,
      "top": null,
      "visibility": null,
      "width": null
     }
    },
    "d7aa644af60345fe9fea48e4d6897f3e": {
     "model_module": "@jupyter-widgets/controls",
     "model_module_version": "1.5.0",
     "model_name": "DescriptionStyleModel",
     "state": {
      "_model_module": "@jupyter-widgets/controls",
      "_model_module_version": "1.5.0",
      "_model_name": "DescriptionStyleModel",
      "_view_count": null,
      "_view_module": "@jupyter-widgets/base",
      "_view_module_version": "1.2.0",
      "_view_name": "StyleView",
      "description_width": ""
     }
    },
    "df9cffd9a0544a1f8963687494697616": {
     "model_module": "@jupyter-widgets/controls",
     "model_module_version": "1.5.0",
     "model_name": "HTMLModel",
     "state": {
      "_dom_classes": [],
      "_model_module": "@jupyter-widgets/controls",
      "_model_module_version": "1.5.0",
      "_model_name": "HTMLModel",
      "_view_count": null,
      "_view_module": "@jupyter-widgets/controls",
      "_view_module_version": "1.5.0",
      "_view_name": "HTMLView",
      "description": "",
      "description_tooltip": null,
      "layout": "IPY_MODEL_b1f58f969d944e47873c818f50e59d32",
      "placeholder": "​",
      "style": "IPY_MODEL_d7aa644af60345fe9fea48e4d6897f3e",
      "value": "Downloading: 100%"
     }
    },
    "e495f0f1c2884de7a8ab29b85f495f6e": {
     "model_module": "@jupyter-widgets/controls",
     "model_module_version": "1.5.0",
     "model_name": "ProgressStyleModel",
     "state": {
      "_model_module": "@jupyter-widgets/controls",
      "_model_module_version": "1.5.0",
      "_model_name": "ProgressStyleModel",
      "_view_count": null,
      "_view_module": "@jupyter-widgets/base",
      "_view_module_version": "1.2.0",
      "_view_name": "StyleView",
      "bar_color": null,
      "description_width": ""
     }
    },
    "fd623c13bf884dce821e5b15f2a7dd8a": {
     "model_module": "@jupyter-widgets/controls",
     "model_module_version": "1.5.0",
     "model_name": "DescriptionStyleModel",
     "state": {
      "_model_module": "@jupyter-widgets/controls",
      "_model_module_version": "1.5.0",
      "_model_name": "DescriptionStyleModel",
      "_view_count": null,
      "_view_module": "@jupyter-widgets/base",
      "_view_module_version": "1.2.0",
      "_view_name": "StyleView",
      "description_width": ""
     }
    }
   }
  }
 },
 "nbformat": 4,
 "nbformat_minor": 4
}
