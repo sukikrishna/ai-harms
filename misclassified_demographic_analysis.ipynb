{
 "cells": [
  {
   "cell_type": "code",
   "execution_count": null,
   "metadata": {
    "colab": {
     "base_uri": "https://localhost:8080/"
    },
    "executionInfo": {
     "elapsed": 1116,
     "status": "ok",
     "timestamp": 1733430278410,
     "user": {
      "displayName": "Jennifer Zhou",
      "userId": "06894254769606527310"
     },
     "user_tz": 300
    },
    "id": "sduU08wvdZ5h",
    "outputId": "d588c006-a1e0-455e-d2d6-4a51fbd07864"
   },
   "outputs": [],
   "source": [
    "from google.colab import drive\n",
    "drive.mount('/content/drive')"
   ]
  },
  {
   "cell_type": "code",
   "execution_count": null,
   "metadata": {
    "executionInfo": {
     "elapsed": 937,
     "status": "ok",
     "timestamp": 1733431492420,
     "user": {
      "displayName": "Jennifer Zhou",
      "userId": "06894254769606527310"
     },
     "user_tz": 300
    },
    "id": "lLspRIMEfGm9"
   },
   "outputs": [],
   "source": [
    "import pandas as pd\n",
    "import matplotlib as plt\n",
    "from functools import reduce\n",
    "df_features = pd.read_csv(\"final_features.csv\")"
   ]
  },
  {
   "cell_type": "code",
   "execution_count": null,
   "metadata": {
    "id": "RYEeT3SvfNlO"
   },
   "outputs": [],
   "source": [
    "length_of_stay_outcomes = pd.read_csv(\"prolonged_length_of_stay_results.csv\")\n",
    "mortality_outcomes = pd.read_csv(\"hospital_mortality_results.csv\")\n",
    "aki_outcomes = pd.read_csv(\"aki_status_results.csv\")"
   ]
  },
  {
   "cell_type": "code",
   "execution_count": null,
   "metadata": {
    "colab": {
     "base_uri": "https://localhost:8080/",
     "height": 206
    },
    "executionInfo": {
     "elapsed": 261,
     "status": "ok",
     "timestamp": 1733431232565,
     "user": {
      "displayName": "Jennifer Zhou",
      "userId": "06894254769606527310"
     },
     "user_tz": 300
    },
    "id": "27FuuDy2jLOw",
    "outputId": "898d8b9b-b6f5-4f32-a53e-13bc08019339"
   },
   "outputs": [],
   "source": [
    "aki_outcomes.head()"
   ]
  },
  {
   "cell_type": "markdown",
   "metadata": {
    "id": "r7JxPFAHhYMB"
   },
   "source": [
    "### add misprediction column"
   ]
  },
  {
   "cell_type": "code",
   "execution_count": null,
   "metadata": {
    "executionInfo": {
     "elapsed": 1428,
     "status": "ok",
     "timestamp": 1733431637609,
     "user": {
      "displayName": "Jennifer Zhou",
      "userId": "06894254769606527310"
     },
     "user_tz": 300
    },
    "id": "vvAjdqcZhaR7"
   },
   "outputs": [],
   "source": [
    "def add_misprediction_col(df, actual_column):\n",
    "  prediction_columns = list(set(df.columns.to_list()) - set([actual_column, 'uniquepid']))\n",
    "  df_mispredict = df.copy()\n",
    "  misprediction_columns = []\n",
    "  for column in prediction_columns:\n",
    "    df_mispredict[f'misprediction_{column}'] = (df[column] != df[actual_column]).astype(int)\n",
    "    misprediction_columns.append(f'misprediction_{column}')\n",
    "  df_mispredict[f'misprediction_count_{actual_column}'] = df_mispredict[misprediction_columns].sum(axis=1)\n",
    "  df_mispredict.drop(inplace=True, columns=misprediction_columns)\n",
    "  return df_mispredict"
   ]
  },
  {
   "cell_type": "code",
   "execution_count": null,
   "metadata": {
    "executionInfo": {
     "elapsed": 1,
     "status": "ok",
     "timestamp": 1733431638200,
     "user": {
      "displayName": "Jennifer Zhou",
      "userId": "06894254769606527310"
     },
     "user_tz": 300
    },
    "id": "L0khFhJ-iFJw"
   },
   "outputs": [],
   "source": [
    "add_misprediction_col(length_of_stay_outcomes, 'actual_prolonged_length_of_stay').to_csv('length_of_stay_misprediction.csv')\n",
    "add_misprediction_col(mortality_outcomes, 'actual_hospital_mortality').to_csv('mortality_misprediction.csv')\n",
    "add_misprediction_col(aki_outcomes, 'actual_aki_status').to_csv('aki_misprediction.csv')"
   ]
  },
  {
   "cell_type": "code",
   "execution_count": null,
   "metadata": {
    "executionInfo": {
     "elapsed": 102,
     "status": "ok",
     "timestamp": 1733431639424,
     "user": {
      "displayName": "Jennifer Zhou",
      "userId": "06894254769606527310"
     },
     "user_tz": 300
    },
    "id": "A0JUrNPUjdTE"
   },
   "outputs": [],
   "source": [
    "length_of_stay_misprediction = pd.read_csv('length_of_stay_misprediction.csv')\n",
    "mortality_misprediction = pd.read_csv('mortality_misprediction.csv')\n",
    "aki_misprediction = pd.read_csv('aki_misprediction.csv')"
   ]
  },
  {
   "cell_type": "code",
   "execution_count": null,
   "metadata": {
    "colab": {
     "base_uri": "https://localhost:8080/",
     "height": 423
    },
    "executionInfo": {
     "elapsed": 104,
     "status": "ok",
     "timestamp": 1733431662564,
     "user": {
      "displayName": "Jennifer Zhou",
      "userId": "06894254769606527310"
     },
     "user_tz": 300
    },
    "id": "on1EmPePk8z0",
    "outputId": "18086620-98b1-49e5-9fb0-483dfb2e613d"
   },
   "outputs": [],
   "source": [
    "aki_misprediction"
   ]
  },
  {
   "cell_type": "markdown",
   "metadata": {
    "id": "M_gvvROikMb2"
   },
   "source": [
    "merging dataframes"
   ]
  },
  {
   "cell_type": "code",
   "execution_count": null,
   "metadata": {
    "executionInfo": {
     "elapsed": 115,
     "status": "ok",
     "timestamp": 1733431581645,
     "user": {
      "displayName": "Jennifer Zhou",
      "userId": "06894254769606527310"
     },
     "user_tz": 300
    },
    "id": "fETfn6nPjkoZ"
   },
   "outputs": [],
   "source": [
    "dataframes = [length_of_stay_misprediction, mortality_misprediction, aki_misprediction]\n",
    "merged_df = reduce(lambda left, right: pd.merge(left, right, on='uniquepid', how='inner'), dataframes)\n",
    "misprediction_cols = [col for col in merged_df.columns if col.startswith('misprediction_count_')]\n",
    "merged_df['total_misprediction_count'] = merged_df[misprediction_cols].sum(axis=1)"
   ]
  },
  {
   "cell_type": "code",
   "execution_count": null,
   "metadata": {
    "colab": {
     "base_uri": "https://localhost:8080/",
     "height": 306
    },
    "executionInfo": {
     "elapsed": 315,
     "status": "ok",
     "timestamp": 1733431614554,
     "user": {
      "displayName": "Jennifer Zhou",
      "userId": "06894254769606527310"
     },
     "user_tz": 300
    },
    "id": "Gc-870z-k0pU",
    "outputId": "828bc058-07c0-466e-99fc-0c6a41a1ee8f"
   },
   "outputs": [],
   "source": [
    "merged_df"
   ]
  },
  {
   "cell_type": "code",
   "execution_count": null,
   "metadata": {
    "colab": {
     "base_uri": "https://localhost:8080/",
     "height": 209
    },
    "executionInfo": {
     "elapsed": 98,
     "status": "ok",
     "timestamp": 1733431602678,
     "user": {
      "displayName": "Jennifer Zhou",
      "userId": "06894254769606527310"
     },
     "user_tz": 300
    },
    "id": "cYUwK6J-kZbl",
    "outputId": "d59fe050-7300-49d4-f09c-415c12aff062"
   },
   "outputs": [],
   "source": [
    "merged_df['total_misprediction_count'].value_counts()"
   ]
  },
  {
   "cell_type": "code",
   "execution_count": null,
   "metadata": {
    "colab": {
     "base_uri": "https://localhost:8080/"
    },
    "executionInfo": {
     "elapsed": 357,
     "status": "ok",
     "timestamp": 1733430415338,
     "user": {
      "displayName": "Jennifer Zhou",
      "userId": "06894254769606527310"
     },
     "user_tz": 300
    },
    "id": "lDNPjY4YfP-S",
    "outputId": "7f9c7154-b09e-4336-d536-524b29d1ceb4"
   },
   "outputs": [],
   "source": [
    "length_of_stay_outcomes.columns.to_list()"
   ]
  },
  {
   "cell_type": "code",
   "execution_count": null,
   "metadata": {
    "colab": {
     "base_uri": "https://localhost:8080/"
    },
    "executionInfo": {
     "elapsed": 274,
     "status": "ok",
     "timestamp": 1733430526983,
     "user": {
      "displayName": "Jennifer Zhou",
      "userId": "06894254769606527310"
     },
     "user_tz": 300
    },
    "id": "strewyHBf7KI",
    "outputId": "8073e1ad-5b2b-4e35-d697-3ba088fea83b"
   },
   "outputs": [],
   "source": [
    "mortality_outcomes.columns.to_list()"
   ]
  },
  {
   "cell_type": "code",
   "execution_count": null,
   "metadata": {
    "colab": {
     "base_uri": "https://localhost:8080/"
    },
    "executionInfo": {
     "elapsed": 144,
     "status": "ok",
     "timestamp": 1733430543462,
     "user": {
      "displayName": "Jennifer Zhou",
      "userId": "06894254769606527310"
     },
     "user_tz": 300
    },
    "id": "bw0WUf4SgsJQ",
    "outputId": "b3206155-d087-403c-c53e-e621e97ccf19"
   },
   "outputs": [],
   "source": [
    "aki_outcomes.columns.to_list()"
   ]
  },
  {
   "cell_type": "code",
   "execution_count": null,
   "metadata": {
    "id": "2_C8RWV2gwI6"
   },
   "outputs": [],
   "source": []
  }
 ],
 "metadata": {
  "colab": {
   "authorship_tag": "ABX9TyNC+g09mt9V8glFAAPpvBZf",
   "provenance": []
  },
  "kernelspec": {
   "display_name": "Python 3 (ipykernel)",
   "language": "python",
   "name": "python3"
  },
  "language_info": {
   "codemirror_mode": {
    "name": "ipython",
    "version": 3
   },
   "file_extension": ".py",
   "mimetype": "text/x-python",
   "name": "python",
   "nbconvert_exporter": "python",
   "pygments_lexer": "ipython3",
   "version": "3.11.5"
  }
 },
 "nbformat": 4,
 "nbformat_minor": 4
}
