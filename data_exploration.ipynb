{
 "cells": [
  {
   "cell_type": "code",
   "execution_count": null,
   "metadata": {
    "id": "-_Cnu2rMgBwy"
   },
   "outputs": [],
   "source": [
    "# Import libraries\n",
    "import numpy as np\n",
    "import os\n",
    "import pandas as pd\n",
    "import matplotlib.pyplot as plt\n",
    "import matplotlib.patches as patches\n",
    "import matplotlib.path as path\n",
    "import seaborn as sns\n",
    "\n",
    "# Make pandas dataframes prettier\n",
    "from IPython.display import display, HTML\n",
    "\n",
    "# Access data using Google BigQuery.\n",
    "from google.colab import auth\n",
    "from google.cloud import bigquery"
   ]
  },
  {
   "cell_type": "code",
   "execution_count": null,
   "metadata": {
    "colab": {
     "base_uri": "https://localhost:8080/"
    },
    "executionInfo": {
     "elapsed": 241,
     "status": "ok",
     "timestamp": 1730121668177,
     "user": {
      "displayName": "Jennifer Zhou",
      "userId": "06894254769606527310"
     },
     "user_tz": 240
    },
    "id": "qDC0AgyOSUdj",
    "outputId": "e9e7c176-742c-484a-9bfa-a599ddbca653"
   },
   "outputs": [],
   "source": [
    "print('hi')"
   ]
  },
  {
   "cell_type": "code",
   "execution_count": null,
   "metadata": {
    "id": "i9nbryrAgkNx"
   },
   "outputs": [],
   "source": [
    "auth.authenticate_user()"
   ]
  },
  {
   "cell_type": "code",
   "execution_count": null,
   "metadata": {
    "id": "M30mVa3ygm6z"
   },
   "outputs": [],
   "source": [
    "project_id='ai-harms'\n",
    "os.environ[\"GOOGLE_CLOUD_PROJECT\"]=project_id"
   ]
  },
  {
   "cell_type": "code",
   "execution_count": null,
   "metadata": {
    "colab": {
     "base_uri": "https://localhost:8080/"
    },
    "executionInfo": {
     "elapsed": 3130,
     "status": "ok",
     "timestamp": 1730121700424,
     "user": {
      "displayName": "Jennifer Zhou",
      "userId": "06894254769606527310"
     },
     "user_tz": 240
    },
    "id": "i_tFrl8DhEnf",
    "outputId": "f7650759-1a49-4cc5-848d-3a421d0e5a7a"
   },
   "outputs": [],
   "source": [
    "# create a connection to the database\n",
    "client = bigquery.Client(project='physionet-data')\n",
    "\n",
    "# load the dataset list\n",
    "datasets = client.list_datasets()\n",
    "\n",
    "# iterate the datasets list\n",
    "for dataset in datasets:\n",
    "    did = dataset.dataset_id\n",
    "    # print the dataset name\n",
    "    print('Dataset \"{}\" has the following tables: '.format(did))\n",
    "    # iterate the tables on the dataset\n",
    "    for table in client.list_tables(client.dataset(did)):\n",
    "        # print the table name\n",
    "        print('- {}'.format(table.table_id))"
   ]
  },
  {
   "cell_type": "code",
   "execution_count": null,
   "metadata": {
    "id": "l_O6QHDahGBJ"
   },
   "outputs": [],
   "source": [
    "import pandas_gbq\n",
    "\n",
    "# Helper function to read data from BigQuery into a DataFrame.\n",
    "def run_query(query, project_id, location=None):\n",
    "    return pandas_gbq.read_gbq(query, project_id=project_id, location=location, use_bqstorage_api=True)"
   ]
  },
  {
   "cell_type": "code",
   "execution_count": null,
   "metadata": {
    "colab": {
     "base_uri": "https://localhost:8080/"
    },
    "executionInfo": {
     "elapsed": 1014,
     "status": "ok",
     "timestamp": 1730121710514,
     "user": {
      "displayName": "Jennifer Zhou",
      "userId": "06894254769606527310"
     },
     "user_tz": 240
    },
    "id": "UTycLMLrkdPc",
    "outputId": "cf689ca7-85cf-495e-b848-5024afe78453"
   },
   "outputs": [],
   "source": [
    "query = \"\"\"\n",
    "SELECT *\n",
    "FROM `physionet-data.eicu_crd_demo.patient`\n",
    "\"\"\"\n",
    "project_id = 'ai-harms'  # Replace with your actual project ID\n",
    "location = 'US'  # Replace with the actual location of your dataset if necessary\n",
    "\n",
    "patient_data = run_query(query, project_id, location)"
   ]
  },
  {
   "cell_type": "code",
   "execution_count": null,
   "metadata": {
    "colab": {
     "base_uri": "https://localhost:8080/"
    },
    "executionInfo": {
     "elapsed": 245,
     "status": "ok",
     "timestamp": 1729472751605,
     "user": {
      "displayName": "Jennifer Zhou",
      "userId": "06894254769606527310"
     },
     "user_tz": 240
    },
    "id": "KWquwtlak0WZ",
    "outputId": "7f137970-5d6e-46a8-801a-f11965a8e21c"
   },
   "outputs": [],
   "source": [
    "patient_data.columns.to_list()"
   ]
  },
  {
   "cell_type": "code",
   "execution_count": null,
   "metadata": {
    "colab": {
     "base_uri": "https://localhost:8080/",
     "height": 634
    },
    "executionInfo": {
     "elapsed": 193,
     "status": "ok",
     "timestamp": 1729473156092,
     "user": {
      "displayName": "Jennifer Zhou",
      "userId": "06894254769606527310"
     },
     "user_tz": 240
    },
    "id": "YbbHO0IXmFuV",
    "outputId": "31fbcc69-d4a5-466c-b73f-2a9fd7b38c80"
   },
   "outputs": [],
   "source": [
    "patient_data"
   ]
  },
  {
   "cell_type": "markdown",
   "metadata": {
    "id": "-r97XgDGqg6A"
   },
   "source": [
    "# Patient Demographics\n"
   ]
  },
  {
   "cell_type": "markdown",
   "metadata": {
    "id": "REC0nR6NqpV3"
   },
   "source": [
    "## Ethnicity"
   ]
  },
  {
   "cell_type": "code",
   "execution_count": null,
   "metadata": {
    "id": "xk-FIYRDpYQA"
   },
   "outputs": [],
   "source": [
    "patient_data['ethnicity'] = patient_data['ethnicity'].apply(lambda x: 'Other/Unknown' if x == '' else x)"
   ]
  },
  {
   "cell_type": "code",
   "execution_count": null,
   "metadata": {
    "colab": {
     "base_uri": "https://localhost:8080/",
     "height": 303
    },
    "executionInfo": {
     "elapsed": 3,
     "status": "ok",
     "timestamp": 1729473666800,
     "user": {
      "displayName": "Jennifer Zhou",
      "userId": "06894254769606527310"
     },
     "user_tz": 240
    },
    "id": "5YgOMOj7pmaN",
    "outputId": "4b294a19-2c8b-4f68-a0f7-1ef5bf4e0bf1"
   },
   "outputs": [],
   "source": [
    "patient_data['ethnicity'].value_counts()"
   ]
  },
  {
   "cell_type": "code",
   "execution_count": null,
   "metadata": {
    "colab": {
     "base_uri": "https://localhost:8080/",
     "height": 675
    },
    "executionInfo": {
     "elapsed": 776,
     "status": "ok",
     "timestamp": 1729473647385,
     "user": {
      "displayName": "Jennifer Zhou",
      "userId": "06894254769606527310"
     },
     "user_tz": 240
    },
    "id": "RE4RlfhEohEM",
    "outputId": "2d3056a0-4ac7-4b8d-e95b-0484bc61cf6a"
   },
   "outputs": [],
   "source": [
    "# Getting the counts of each ethnicity\n",
    "ethnicity_counts = patient_data['ethnicity'].value_counts()\n",
    "\n",
    "# Create a pie chart\n",
    "plt.figure(figsize=(8, 8))\n",
    "plt.pie(ethnicity_counts, labels=ethnicity_counts.index, autopct='%1.1f%%', startangle=140, colors=plt.cm.Set2(range(len(ethnicity_counts))))\n",
    "plt.title('Distribution of Ethnicity')\n",
    "plt.show()"
   ]
  },
  {
   "cell_type": "markdown",
   "metadata": {
    "id": "nZldVqwZsHQe"
   },
   "source": [
    "## Age"
   ]
  },
  {
   "cell_type": "code",
   "execution_count": null,
   "metadata": {
    "id": "82mgfY43rXXV"
   },
   "outputs": [],
   "source": [
    "patient_data['age'] = pd.to_numeric(patient_data['age'], errors='coerce')"
   ]
  },
  {
   "cell_type": "code",
   "execution_count": null,
   "metadata": {
    "colab": {
     "base_uri": "https://localhost:8080/",
     "height": 334
    },
    "executionInfo": {
     "elapsed": 215,
     "status": "ok",
     "timestamp": 1729473978917,
     "user": {
      "displayName": "Jennifer Zhou",
      "userId": "06894254769606527310"
     },
     "user_tz": 240
    },
    "id": "XhZYs6XOro2Z",
    "outputId": "3a9e978f-20a6-4607-adda-d5ff0563c63f"
   },
   "outputs": [],
   "source": [
    "patient_data['age'].describe()"
   ]
  },
  {
   "cell_type": "code",
   "execution_count": null,
   "metadata": {
    "colab": {
     "base_uri": "https://localhost:8080/"
    },
    "executionInfo": {
     "elapsed": 174,
     "status": "ok",
     "timestamp": 1729474035040,
     "user": {
      "displayName": "Jennifer Zhou",
      "userId": "06894254769606527310"
     },
     "user_tz": 240
    },
    "id": "L7clLpywrr-3",
    "outputId": "a3169ded-b413-4228-8a0c-0d483d1ec2c3"
   },
   "outputs": [],
   "source": [
    "patient_data['age'].unique()"
   ]
  },
  {
   "cell_type": "code",
   "execution_count": null,
   "metadata": {
    "colab": {
     "base_uri": "https://localhost:8080/"
    },
    "executionInfo": {
     "elapsed": 175,
     "status": "ok",
     "timestamp": 1729474066065,
     "user": {
      "displayName": "Jennifer Zhou",
      "userId": "06894254769606527310"
     },
     "user_tz": 240
    },
    "id": "pHxAjEIRr5mx",
    "outputId": "941d7c33-3d56-4087-a55a-15b16d6a3a2e"
   },
   "outputs": [],
   "source": [
    "patient_data['age'].isna().sum()"
   ]
  },
  {
   "cell_type": "code",
   "execution_count": null,
   "metadata": {
    "colab": {
     "base_uri": "https://localhost:8080/",
     "height": 573
    },
    "executionInfo": {
     "elapsed": 821,
     "status": "ok",
     "timestamp": 1729473967933,
     "user": {
      "displayName": "Jennifer Zhou",
      "userId": "06894254769606527310"
     },
     "user_tz": 240
    },
    "id": "2iOhb5uopJ7a",
    "outputId": "8d4712fb-e9b4-475d-ddcc-50def5f1364b"
   },
   "outputs": [],
   "source": [
    "plt.figure(figsize=(10, 6))\n",
    "plot = sns.histplot(patient_data['age'], bins=30, color='skyblue')\n",
    "plt.title('Distribution of Patient Ages')\n",
    "plt.xlabel('Age')\n",
    "plt.ylabel('Frequency')\n",
    "plt.show()"
   ]
  },
  {
   "cell_type": "markdown",
   "metadata": {
    "id": "60w_RcLNsjX2"
   },
   "source": [
    "## Gender"
   ]
  },
  {
   "cell_type": "code",
   "execution_count": null,
   "metadata": {
    "colab": {
     "base_uri": "https://localhost:8080/",
     "height": 240
    },
    "executionInfo": {
     "elapsed": 3,
     "status": "ok",
     "timestamp": 1729474164169,
     "user": {
      "displayName": "Jennifer Zhou",
      "userId": "06894254769606527310"
     },
     "user_tz": 240
    },
    "id": "VeYK5WJusVmK",
    "outputId": "ce8426f6-2c7c-4301-f6e1-1716ce834682"
   },
   "outputs": [],
   "source": [
    "patient_data['gender'].value_counts()"
   ]
  },
  {
   "cell_type": "code",
   "execution_count": null,
   "metadata": {
    "colab": {
     "base_uri": "https://localhost:8080/",
     "height": 675
    },
    "executionInfo": {
     "elapsed": 418,
     "status": "ok",
     "timestamp": 1729474151062,
     "user": {
      "displayName": "Jennifer Zhou",
      "userId": "06894254769606527310"
     },
     "user_tz": 240
    },
    "id": "6CO5wPjwq1Wm",
    "outputId": "7a8ea43e-b9da-440a-9951-260fe500ca35"
   },
   "outputs": [],
   "source": [
    "gender_counts = patient_data['gender'].value_counts()\n",
    "plt.figure(figsize=(8, 8))\n",
    "plt.pie(gender_counts, labels=gender_counts.index, autopct='%1.1f%%', startangle=140, colors=sns.color_palette(\"Set3\"))\n",
    "plt.title('Gender Distribution')\n",
    "plt.show()"
   ]
  },
  {
   "cell_type": "markdown",
   "metadata": {
    "id": "w0il7vKSs0oz"
   },
   "source": [
    "## Other Analysis"
   ]
  },
  {
   "cell_type": "code",
   "execution_count": null,
   "metadata": {
    "id": "sY7vKHojsUAr"
   },
   "outputs": [],
   "source": [
    "pid_counts = patient_data['uniquepid'].value_counts()"
   ]
  },
  {
   "cell_type": "code",
   "execution_count": null,
   "metadata": {
    "colab": {
     "base_uri": "https://localhost:8080/",
     "height": 209
    },
    "executionInfo": {
     "elapsed": 214,
     "status": "ok",
     "timestamp": 1729474490835,
     "user": {
      "displayName": "Jennifer Zhou",
      "userId": "06894254769606527310"
     },
     "user_tz": 240
    },
    "id": "6zNZ7I9Usw5o",
    "outputId": "37fe80b8-fd0a-4da0-a61d-757cfc595cfa"
   },
   "outputs": [],
   "source": [
    "patient_data['uniquepid'].describe()"
   ]
  },
  {
   "cell_type": "code",
   "execution_count": null,
   "metadata": {
    "colab": {
     "base_uri": "https://localhost:8080/",
     "height": 573
    },
    "executionInfo": {
     "elapsed": 628,
     "status": "ok",
     "timestamp": 1729474492149,
     "user": {
      "displayName": "Jennifer Zhou",
      "userId": "06894254769606527310"
     },
     "user_tz": 240
    },
    "id": "u5UK07sDtd-v",
    "outputId": "17311162-48ca-4d0e-8c9c-6d69fc9bf471"
   },
   "outputs": [],
   "source": [
    "plt.figure(figsize=(10, 6))\n",
    "plt.hist(pid_counts, bins=30, color='skyblue')  # Adjust bins as needed\n",
    "plt.title('Histogram of Patient ID Frequencies')\n",
    "plt.xlabel('Frequency of each unique patient ID')\n",
    "plt.ylabel('Number of Patient IDs')\n",
    "plt.show()"
   ]
  },
  {
   "cell_type": "code",
   "execution_count": null,
   "metadata": {
    "id": "vuMZBIKJtkxd"
   },
   "outputs": [],
   "source": [
    "# some ppl have been admitted multiple times, should these patients be put into a separate cohort (/ do they possible skew ml model results?)"
   ]
  },
  {
   "cell_type": "markdown",
   "metadata": {
    "id": "fun0JAtju1eV"
   },
   "source": [
    "# Apache Patient Results\n"
   ]
  },
  {
   "cell_type": "code",
   "execution_count": null,
   "metadata": {
    "colab": {
     "base_uri": "https://localhost:8080/"
    },
    "executionInfo": {
     "elapsed": 1961,
     "status": "ok",
     "timestamp": 1729474851393,
     "user": {
      "displayName": "Jennifer Zhou",
      "userId": "06894254769606527310"
     },
     "user_tz": 240
    },
    "id": "wy9vPdF3u4Xt",
    "outputId": "25988195-9e40-4141-cca7-353674ff5a95"
   },
   "outputs": [],
   "source": [
    "query = \"\"\"\n",
    "SELECT *\n",
    "FROM `physionet-data.eicu_crd_demo.apachepatientresult`\n",
    "\"\"\"\n",
    "project_id = 'ai-harms'  # Replace with your actual project ID\n",
    "location = 'US'  # Replace with the actual location of your dataset if necessary\n",
    "\n",
    "apache_patient_results_df = run_query(query, project_id, location)\n",
    "print(apache_patient_results_df.head())"
   ]
  },
  {
   "cell_type": "code",
   "execution_count": null,
   "metadata": {
    "colab": {
     "base_uri": "https://localhost:8080/",
     "height": 443
    },
    "executionInfo": {
     "elapsed": 273,
     "status": "ok",
     "timestamp": 1729474859647,
     "user": {
      "displayName": "Jennifer Zhou",
      "userId": "06894254769606527310"
     },
     "user_tz": 240
    },
    "id": "niARSfgau-mU",
    "outputId": "88826de6-967d-4d6d-c665-4ee5e332e8d4"
   },
   "outputs": [],
   "source": [
    "apache_patient_results_df"
   ]
  },
  {
   "cell_type": "code",
   "execution_count": null,
   "metadata": {
    "colab": {
     "base_uri": "https://localhost:8080/"
    },
    "executionInfo": {
     "elapsed": 267,
     "status": "ok",
     "timestamp": 1729474873810,
     "user": {
      "displayName": "Jennifer Zhou",
      "userId": "06894254769606527310"
     },
     "user_tz": 240
    },
    "id": "aSFltjRzvA_T",
    "outputId": "d53ef463-8eb7-49a9-dcfd-af30fca4f86d"
   },
   "outputs": [],
   "source": [
    "apache_patient_results_df.columns.to_list()"
   ]
  },
  {
   "cell_type": "code",
   "execution_count": null,
   "metadata": {
    "colab": {
     "base_uri": "https://localhost:8080/",
     "height": 178
    },
    "executionInfo": {
     "elapsed": 187,
     "status": "ok",
     "timestamp": 1729475054353,
     "user": {
      "displayName": "Jennifer Zhou",
      "userId": "06894254769606527310"
     },
     "user_tz": 240
    },
    "id": "LMeu9zZZvdEa",
    "outputId": "b6c7a948-8f27-4448-c6ee-70d50396d4c8"
   },
   "outputs": [],
   "source": [
    "apache_patient_results_df['actualhospitalmortality'].value_counts()"
   ]
  },
  {
   "cell_type": "code",
   "execution_count": null,
   "metadata": {
    "colab": {
     "base_uri": "https://localhost:8080/",
     "height": 489
    },
    "executionInfo": {
     "elapsed": 195,
     "status": "ok",
     "timestamp": 1729475167639,
     "user": {
      "displayName": "Jennifer Zhou",
      "userId": "06894254769606527310"
     },
     "user_tz": 240
    },
    "id": "scFgajYYvwlo",
    "outputId": "c4475605-02bc-48e8-b589-4745e63d00a2"
   },
   "outputs": [],
   "source": [
    "apache_patient_results_df['patientunitstayid'].value_counts()"
   ]
  },
  {
   "cell_type": "markdown",
   "metadata": {
    "id": "CtqMKu2Owjcs"
   },
   "source": [
    "### Does mortality disproportionately affect any demographic group?"
   ]
  },
  {
   "cell_type": "code",
   "execution_count": null,
   "metadata": {
    "id": "aQv8ZSRRwnAy"
   },
   "outputs": [],
   "source": [
    "merged_df = apache_patient_results_df.merge(patient_data, on='patientunitstayid', how='inner')"
   ]
  },
  {
   "cell_type": "code",
   "execution_count": null,
   "metadata": {
    "colab": {
     "base_uri": "https://localhost:8080/"
    },
    "executionInfo": {
     "elapsed": 366,
     "status": "ok",
     "timestamp": 1729475382232,
     "user": {
      "displayName": "Jennifer Zhou",
      "userId": "06894254769606527310"
     },
     "user_tz": 240
    },
    "id": "yrKMMMFlwpLB",
    "outputId": "1bc24065-17dc-4641-a4c8-609bd617128c"
   },
   "outputs": [],
   "source": [
    "bins = [0, 18, 35, 65, 85, 100]  # Define age bins\n",
    "labels = ['0-18', '19-35', '36-65', '66-85', '86-100']\n",
    "merged_df['age_group'] = pd.cut(merged_df['age'], bins=bins, labels=labels, right=False)\n",
    "\n",
    "# Calculate mortality rates\n",
    "mortality_summary = merged_df.groupby(['age_group', 'gender', 'ethnicity'])['actualhospitalmortality'].value_counts(normalize=True).unstack().fillna(0)"
   ]
  },
  {
   "cell_type": "code",
   "execution_count": null,
   "metadata": {
    "colab": {
     "base_uri": "https://localhost:8080/",
     "height": 679
    },
    "executionInfo": {
     "elapsed": 4448,
     "status": "ok",
     "timestamp": 1729475572856,
     "user": {
      "displayName": "Jennifer Zhou",
      "userId": "06894254769606527310"
     },
     "user_tz": 240
    },
    "id": "FYYybIE4xAmI",
    "outputId": "98d50692-716b-40c8-fb28-696fc1a787a4"
   },
   "outputs": [],
   "source": [
    "mortality_summary['EXPIRED'].plot(kind='bar', stacked=True, figsize=(30, 7))\n",
    "plt.title('Mortality Rates Across Demographic Groups')\n",
    "plt.xlabel('Demographic Groups')\n",
    "plt.ylabel('Mortality Rate')\n",
    "plt.xticks(rotation=90)\n",
    "plt.show()"
   ]
  },
  {
   "cell_type": "code",
   "execution_count": null,
   "metadata": {
    "id": "9IYfSxW9x_kM"
   },
   "outputs": [],
   "source": []
  },
  {
   "cell_type": "markdown",
   "metadata": {
    "id": "iC6MgiSPyKsN"
   },
   "source": [
    "# Diagnosis"
   ]
  },
  {
   "cell_type": "code",
   "execution_count": null,
   "metadata": {
    "colab": {
     "base_uri": "https://localhost:8080/"
    },
    "executionInfo": {
     "elapsed": 3772,
     "status": "ok",
     "timestamp": 1729475723735,
     "user": {
      "displayName": "Jennifer Zhou",
      "userId": "06894254769606527310"
     },
     "user_tz": 240
    },
    "id": "2zuPj7g_yMvy",
    "outputId": "8d4da145-5ada-4b4e-f059-fc0334361346"
   },
   "outputs": [],
   "source": [
    "query = \"\"\"\n",
    "SELECT *\n",
    "FROM `physionet-data.eicu_crd_demo.diagnosis`\n",
    "\"\"\"\n",
    "project_id = 'ai-harms'  # Replace with your actual project ID\n",
    "location = 'US'  # Replace with the actual location of your dataset if necessary\n",
    "\n",
    "diagnosis = run_query(query, project_id, location)\n",
    "print(diagnosis.head())"
   ]
  },
  {
   "cell_type": "code",
   "execution_count": null,
   "metadata": {
    "id": "0rsEdregyTIs"
   },
   "outputs": [],
   "source": [
    "icd9_counts = diagnosis['icd9code'].value_counts()"
   ]
  },
  {
   "cell_type": "code",
   "execution_count": null,
   "metadata": {
    "id": "d9TcNOx5yU09"
   },
   "outputs": [],
   "source": [
    "# curious to see which groups of people typically have the least common icd diagnosis / no diagonsis at all?"
   ]
  },
  {
   "cell_type": "code",
   "execution_count": null,
   "metadata": {
    "colab": {
     "base_uri": "https://localhost:8080/",
     "height": 727
    },
    "executionInfo": {
     "elapsed": 630,
     "status": "ok",
     "timestamp": 1729475875655,
     "user": {
      "displayName": "Jennifer Zhou",
      "userId": "06894254769606527310"
     },
     "user_tz": 240
    },
    "id": "lrFbiiAtypmR",
    "outputId": "08d74da5-8f78-4ef4-d1f8-0bc8dbfc188f"
   },
   "outputs": [],
   "source": [
    "# Set aesthetic style\n",
    "sns.set(style=\"whitegrid\")\n",
    "\n",
    "# Plotting the top 20 ICD-9 codes\n",
    "top_icd9_codes = icd9_counts.head(20)  # Adjust the number as needed\n",
    "\n",
    "plt.figure(figsize=(10, 8))  # Adjust the figure size as needed\n",
    "top_icd9_codes.plot(kind='barh', color='skyblue')  # Horizontal bar plot\n",
    "plt.title('Top 20 ICD-9 Codes Frequency')\n",
    "plt.xlabel('Frequency')\n",
    "plt.ylabel('ICD-9 Code')\n",
    "plt.gca().invert_yaxis()  # Invert the y-axis to have the highest values on top\n",
    "plt.show()"
   ]
  },
  {
   "cell_type": "code",
   "execution_count": null,
   "metadata": {
    "colab": {
     "base_uri": "https://localhost:8080/",
     "height": 489
    },
    "executionInfo": {
     "elapsed": 272,
     "status": "ok",
     "timestamp": 1729475902261,
     "user": {
      "displayName": "Jennifer Zhou",
      "userId": "06894254769606527310"
     },
     "user_tz": 240
    },
    "id": "6_dG6ny2y2f_",
    "outputId": "2daf1aef-eb9d-4953-d16a-360424dad66c"
   },
   "outputs": [],
   "source": [
    "icd9_counts"
   ]
  },
  {
   "cell_type": "markdown",
   "metadata": {
    "id": "lBG3KvDWzAVn"
   },
   "source": [
    "#### ICD 9 codes\n",
    "\n",
    "038.9, A41.9 - Septicemia\n",
    "\n",
    "518.81, J96.00 - Acute respiratory failure\n",
    "\n",
    "427.31, I48.0 - Atrial fibrillation\n",
    "\n",
    "584.9, N17.9 - Acute renal failure\n",
    "\n",
    "401.9, I10 - Essential (primary) hypertension\n",
    "\n",
    "486, J18.9 - Pneumonia\n",
    "\n",
    "491.20, J44.9 - Chronic obstructive pulmonary disease\n",
    "\n",
    "780.09, R41.82 - Altered mental status\n",
    "\n",
    "428.0, I50.9 - Congestive heart failure\n",
    "\n",
    "458.9, I95.9 - Hypotension\n",
    "\n",
    "518.82 - Other specified respiratory conditions\n",
    "\n",
    "288.8, D72.829 - Elevated white blood cell count\n",
    "\n",
    "578.9, K92.2 - Gastrointestinal hemorrhage\n",
    "\n",
    "511.9, J91.8 - Pleural effusion in conditions classified elsewhere\n",
    "\n",
    "995.90 - Unspecified adverse effect of unspecified drug, medicament and\n",
    "biological substance\n",
    "\n",
    "799.02, J96.91 - Respiratory arrest\n",
    "\n",
    "276.2, E87.2 - Acidosis\n",
    "\n",
    "427.5, I46.9 - Cardiac arrest\n",
    "\n",
    "\n",
    "\n",
    "244.9, E03.9 - Hypothyroidism"
   ]
  },
  {
   "cell_type": "markdown",
   "metadata": {
    "id": "hkqzo5_Uz0xJ"
   },
   "source": [
    "# Lab"
   ]
  },
  {
   "cell_type": "code",
   "execution_count": null,
   "metadata": {
    "colab": {
     "base_uri": "https://localhost:8080/"
    },
    "executionInfo": {
     "elapsed": 9227,
     "status": "ok",
     "timestamp": 1729476150976,
     "user": {
      "displayName": "Jennifer Zhou",
      "userId": "06894254769606527310"
     },
     "user_tz": 240
    },
    "id": "quJlIm8Az2Qt",
    "outputId": "236c64e5-c94a-4602-c756-78e2b38f2959"
   },
   "outputs": [],
   "source": [
    "query = \"\"\"\n",
    "SELECT *\n",
    "FROM `physionet-data.eicu_crd_demo.lab`\n",
    "\"\"\"\n",
    "project_id = 'ai-harms'  # Replace with your actual project ID\n",
    "location = 'US'  # Replace with the actual location of your dataset if necessary\n",
    "\n",
    "lab = run_query(query, project_id, location)\n",
    "print(lab.head())"
   ]
  },
  {
   "cell_type": "code",
   "execution_count": null,
   "metadata": {
    "colab": {
     "base_uri": "https://localhost:8080/"
    },
    "executionInfo": {
     "elapsed": 189,
     "status": "ok",
     "timestamp": 1729476247751,
     "user": {
      "displayName": "Jennifer Zhou",
      "userId": "06894254769606527310"
     },
     "user_tz": 240
    },
    "id": "LML7Nzcvz6F9",
    "outputId": "b7e616a2-4d74-4db4-f8e7-30462593505a"
   },
   "outputs": [],
   "source": [
    "lab.columns.to_list()"
   ]
  },
  {
   "cell_type": "code",
   "execution_count": null,
   "metadata": {
    "id": "EoG2FFwJ0Gp4"
   },
   "outputs": [],
   "source": [
    "lab_name_counts = lab['labname'].value_counts()"
   ]
  },
  {
   "cell_type": "code",
   "execution_count": null,
   "metadata": {
    "colab": {
     "base_uri": "https://localhost:8080/",
     "height": 1000
    },
    "executionInfo": {
     "elapsed": 3339,
     "status": "ok",
     "timestamp": 1729476391959,
     "user": {
      "displayName": "Jennifer Zhou",
      "userId": "06894254769606527310"
     },
     "user_tz": 240
    },
    "id": "dlCyvLjq0aQC",
    "outputId": "06048d26-66a8-4dc6-affa-b507895a2765"
   },
   "outputs": [],
   "source": [
    "# Set aesthetic style\n",
    "sns.set(style=\"whitegrid\")\n",
    "plt.figure(figsize=(10, 30))  # Adjust the figure size as needed\n",
    "lab_name_counts.plot(kind='barh', color='skyblue')  # Horizontal bar plot\n",
    "plt.title('Lab Frequency')\n",
    "plt.xlabel('Frequency')\n",
    "plt.ylabel('Lab Name')\n",
    "plt.gca().invert_yaxis()  # Invert the y-axis to have the highest values on top\n",
    "plt.show()"
   ]
  },
  {
   "cell_type": "code",
   "execution_count": null,
   "metadata": {
    "id": "36-3-wHV0tkG"
   },
   "outputs": [],
   "source": [
    "# analyze test results for top 10 labs"
   ]
  },
  {
   "cell_type": "code",
   "execution_count": null,
   "metadata": {
    "colab": {
     "base_uri": "https://localhost:8080/",
     "height": 968
    },
    "executionInfo": {
     "elapsed": 3281,
     "status": "ok",
     "timestamp": 1729476608130,
     "user": {
      "displayName": "Jennifer Zhou",
      "userId": "06894254769606527310"
     },
     "user_tz": 240
    },
    "id": "4uPnWYt-1WQ5",
    "outputId": "bf0bcd4f-6d5d-4afe-de98-7b63886bf6e1"
   },
   "outputs": [],
   "source": [
    "top_10_labs = lab_name_counts.head(10).index.tolist()\n",
    "top_10_lab_results = lab[lab['labname'].isin(top_10_labs)]\n",
    "sns.set(style=\"whitegrid\")\n",
    "\n",
    "# Create a box plot for each lab test result\n",
    "plt.figure(figsize=(12, 10))  # You can adjust the figure size as needed\n",
    "sns.boxplot(y='labname', x='labresult', data=top_10_lab_results, orient='h', palette=\"Set2\")\n",
    "plt.title('Summary of Top 10 Lab Test Results')\n",
    "plt.ylabel('Lab Test')\n",
    "plt.xlabel('Test Result')\n",
    "plt.show()"
   ]
  },
  {
   "cell_type": "code",
   "execution_count": null,
   "metadata": {
    "id": "A73vIe8E1bBU"
   },
   "outputs": [],
   "source": []
  }
 ],
 "metadata": {
  "accelerator": "GPU",
  "colab": {
   "gpuType": "A100",
   "machine_shape": "hm",
   "provenance": []
  },
  "kernelspec": {
   "display_name": "Python 3 (ipykernel)",
   "language": "python",
   "name": "python3"
  },
  "language_info": {
   "codemirror_mode": {
    "name": "ipython",
    "version": 3
   },
   "file_extension": ".py",
   "mimetype": "text/x-python",
   "name": "python",
   "nbconvert_exporter": "python",
   "pygments_lexer": "ipython3",
   "version": "3.11.5"
  }
 },
 "nbformat": 4,
 "nbformat_minor": 4
}
